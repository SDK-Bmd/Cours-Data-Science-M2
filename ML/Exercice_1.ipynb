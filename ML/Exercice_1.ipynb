{
 "cells": [
  {
   "cell_type": "markdown",
   "id": "f9dc0589",
   "metadata": {},
   "source": [
    "# Introduction to Machine Learning – Titanic Dataset\n",
    "\n",
    "This notebook introduces basic supervised learning with:\n",
    "- Preprocessing (missing values, encoding)\n",
    "- Feature scaling\n",
    "- Pipeline creation with Scikit-learn\n",
    "- Model training & evaluation\n",
    "- Model saving and serving with FastAPI"
   ]
  },
  {
   "cell_type": "code",
   "id": "bddb9988",
   "metadata": {
    "ExecuteTime": {
     "end_time": "2025-07-01T09:14:07.850472Z",
     "start_time": "2025-07-01T09:14:07.846463Z"
    }
   },
   "source": [
    "# 📦 Imports\n",
    "import pandas as pd\n",
    "import numpy as np\n",
    "from sklearn.model_selection import train_test_split\n",
    "from sklearn.preprocessing import StandardScaler, OneHotEncoder\n",
    "from sklearn.compose import ColumnTransformer\n",
    "from sklearn.pipeline import Pipeline\n",
    "from sklearn.impute import SimpleImputer\n",
    "from sklearn.linear_model import LogisticRegression\n",
    "from sklearn.metrics import classification_report\n",
    "from sklearn.model_selection import cross_validate, cross_val_score\n",
    "import joblib"
   ],
   "outputs": [],
   "execution_count": 31
  },
  {
   "cell_type": "code",
   "id": "628c2bcf",
   "metadata": {
    "ExecuteTime": {
     "end_time": "2025-07-01T09:14:08.004627Z",
     "start_time": "2025-07-01T09:14:07.961257Z"
    }
   },
   "source": [
    "# 📥 Load Titanic Dataset\n",
    "url = \"https://raw.githubusercontent.com/datasciencedojo/datasets/master/titanic.csv\"\n",
    "df = pd.read_csv(url)\n",
    "df.head()"
   ],
   "outputs": [
    {
     "data": {
      "text/plain": [
       "   PassengerId  Survived  Pclass  \\\n",
       "0            1         0       3   \n",
       "1            2         1       1   \n",
       "2            3         1       3   \n",
       "3            4         1       1   \n",
       "4            5         0       3   \n",
       "\n",
       "                                                Name     Sex   Age  SibSp  \\\n",
       "0                            Braund, Mr. Owen Harris    male  22.0      1   \n",
       "1  Cumings, Mrs. John Bradley (Florence Briggs Th...  female  38.0      1   \n",
       "2                             Heikkinen, Miss. Laina  female  26.0      0   \n",
       "3       Futrelle, Mrs. Jacques Heath (Lily May Peel)  female  35.0      1   \n",
       "4                           Allen, Mr. William Henry    male  35.0      0   \n",
       "\n",
       "   Parch            Ticket     Fare Cabin Embarked  \n",
       "0      0         A/5 21171   7.2500   NaN        S  \n",
       "1      0          PC 17599  71.2833   C85        C  \n",
       "2      0  STON/O2. 3101282   7.9250   NaN        S  \n",
       "3      0            113803  53.1000  C123        S  \n",
       "4      0            373450   8.0500   NaN        S  "
      ],
      "text/html": [
       "<div>\n",
       "<style scoped>\n",
       "    .dataframe tbody tr th:only-of-type {\n",
       "        vertical-align: middle;\n",
       "    }\n",
       "\n",
       "    .dataframe tbody tr th {\n",
       "        vertical-align: top;\n",
       "    }\n",
       "\n",
       "    .dataframe thead th {\n",
       "        text-align: right;\n",
       "    }\n",
       "</style>\n",
       "<table border=\"1\" class=\"dataframe\">\n",
       "  <thead>\n",
       "    <tr style=\"text-align: right;\">\n",
       "      <th></th>\n",
       "      <th>PassengerId</th>\n",
       "      <th>Survived</th>\n",
       "      <th>Pclass</th>\n",
       "      <th>Name</th>\n",
       "      <th>Sex</th>\n",
       "      <th>Age</th>\n",
       "      <th>SibSp</th>\n",
       "      <th>Parch</th>\n",
       "      <th>Ticket</th>\n",
       "      <th>Fare</th>\n",
       "      <th>Cabin</th>\n",
       "      <th>Embarked</th>\n",
       "    </tr>\n",
       "  </thead>\n",
       "  <tbody>\n",
       "    <tr>\n",
       "      <th>0</th>\n",
       "      <td>1</td>\n",
       "      <td>0</td>\n",
       "      <td>3</td>\n",
       "      <td>Braund, Mr. Owen Harris</td>\n",
       "      <td>male</td>\n",
       "      <td>22.0</td>\n",
       "      <td>1</td>\n",
       "      <td>0</td>\n",
       "      <td>A/5 21171</td>\n",
       "      <td>7.2500</td>\n",
       "      <td>NaN</td>\n",
       "      <td>S</td>\n",
       "    </tr>\n",
       "    <tr>\n",
       "      <th>1</th>\n",
       "      <td>2</td>\n",
       "      <td>1</td>\n",
       "      <td>1</td>\n",
       "      <td>Cumings, Mrs. John Bradley (Florence Briggs Th...</td>\n",
       "      <td>female</td>\n",
       "      <td>38.0</td>\n",
       "      <td>1</td>\n",
       "      <td>0</td>\n",
       "      <td>PC 17599</td>\n",
       "      <td>71.2833</td>\n",
       "      <td>C85</td>\n",
       "      <td>C</td>\n",
       "    </tr>\n",
       "    <tr>\n",
       "      <th>2</th>\n",
       "      <td>3</td>\n",
       "      <td>1</td>\n",
       "      <td>3</td>\n",
       "      <td>Heikkinen, Miss. Laina</td>\n",
       "      <td>female</td>\n",
       "      <td>26.0</td>\n",
       "      <td>0</td>\n",
       "      <td>0</td>\n",
       "      <td>STON/O2. 3101282</td>\n",
       "      <td>7.9250</td>\n",
       "      <td>NaN</td>\n",
       "      <td>S</td>\n",
       "    </tr>\n",
       "    <tr>\n",
       "      <th>3</th>\n",
       "      <td>4</td>\n",
       "      <td>1</td>\n",
       "      <td>1</td>\n",
       "      <td>Futrelle, Mrs. Jacques Heath (Lily May Peel)</td>\n",
       "      <td>female</td>\n",
       "      <td>35.0</td>\n",
       "      <td>1</td>\n",
       "      <td>0</td>\n",
       "      <td>113803</td>\n",
       "      <td>53.1000</td>\n",
       "      <td>C123</td>\n",
       "      <td>S</td>\n",
       "    </tr>\n",
       "    <tr>\n",
       "      <th>4</th>\n",
       "      <td>5</td>\n",
       "      <td>0</td>\n",
       "      <td>3</td>\n",
       "      <td>Allen, Mr. William Henry</td>\n",
       "      <td>male</td>\n",
       "      <td>35.0</td>\n",
       "      <td>0</td>\n",
       "      <td>0</td>\n",
       "      <td>373450</td>\n",
       "      <td>8.0500</td>\n",
       "      <td>NaN</td>\n",
       "      <td>S</td>\n",
       "    </tr>\n",
       "  </tbody>\n",
       "</table>\n",
       "</div>"
      ]
     },
     "execution_count": 32,
     "metadata": {},
     "output_type": "execute_result"
    }
   ],
   "execution_count": 32
  },
  {
   "cell_type": "code",
   "id": "467288a2",
   "metadata": {
    "ExecuteTime": {
     "end_time": "2025-07-01T09:14:08.144243Z",
     "start_time": "2025-07-01T09:14:08.140106Z"
    }
   },
   "source": [
    "# 🧹 Select Features and Target\n",
    "features = ['Pclass', 'Sex', 'Age', 'Fare', 'Embarked']\n",
    "target = 'Survived'\n",
    "\n",
    "X = df[features]\n",
    "y = df[target]"
   ],
   "outputs": [],
   "execution_count": 33
  },
  {
   "cell_type": "code",
   "id": "184e2f94",
   "metadata": {
    "ExecuteTime": {
     "end_time": "2025-07-01T09:14:08.280848Z",
     "start_time": "2025-07-01T09:14:08.276840Z"
    }
   },
   "source": [
    "# 🔧 Define Preprocessing Pipeline\n",
    "numeric_features = ['Age', 'Fare']\n",
    "numeric_transformer = Pipeline([\n",
    "    ('imputer', SimpleImputer(strategy='median')),\n",
    "    ('scaler', StandardScaler())\n",
    "])\n",
    "\n",
    "categorical_features = ['Pclass', 'Sex', 'Embarked']\n",
    "categorical_transformer = Pipeline([\n",
    "    ('imputer', SimpleImputer(strategy='most_frequent')),\n",
    "    ('encoder', OneHotEncoder(handle_unknown='ignore'))\n",
    "])\n",
    "\n",
    "preprocessor = ColumnTransformer([\n",
    "    ('num', numeric_transformer, numeric_features),\n",
    "    ('cat', categorical_transformer, categorical_features)\n",
    "])"
   ],
   "outputs": [],
   "execution_count": 34
  },
  {
   "cell_type": "code",
   "id": "7452379a",
   "metadata": {
    "ExecuteTime": {
     "end_time": "2025-07-01T09:14:08.516553Z",
     "start_time": "2025-07-01T09:14:08.495312Z"
    }
   },
   "source": [
    "# 🔁 Full Pipeline with Model\n",
    "clf_pipeline = Pipeline([\n",
    "    ('preprocessing', preprocessor),\n",
    "    ('classifier', LogisticRegression(max_iter=1000))\n",
    "])\n",
    "\n",
    "# Split the data\n",
    "X_train, X_test, y_train, y_test = train_test_split(X, y, test_size=0.2, random_state=42)\n",
    "\n",
    "# Train the model\n",
    "clf_pipeline.fit(X_train, y_train)\n",
    "\n",
    "# Evaluate\n",
    "y_pred = clf_pipeline.predict(X_test)\n",
    "print(classification_report(y_test, y_pred))"
   ],
   "outputs": [
    {
     "name": "stdout",
     "output_type": "stream",
     "text": [
      "              precision    recall  f1-score   support\n",
      "\n",
      "           0       0.81      0.84      0.82       105\n",
      "           1       0.76      0.72      0.74        74\n",
      "\n",
      "    accuracy                           0.79       179\n",
      "   macro avg       0.78      0.78      0.78       179\n",
      "weighted avg       0.79      0.79      0.79       179\n",
      "\n"
     ]
    }
   ],
   "execution_count": 35
  },
  {
   "cell_type": "markdown",
   "id": "c13b6dd7",
   "metadata": {},
   "source": [
    "## Save the Trained Pipeline"
   ]
  },
  {
   "cell_type": "code",
   "id": "d0fe50c6",
   "metadata": {
    "ExecuteTime": {
     "end_time": "2025-07-01T09:14:08.635414Z",
     "start_time": "2025-07-01T09:14:08.629904Z"
    }
   },
   "source": [
    "joblib.dump(clf_pipeline, \"titanic_pipeline.pkl\")"
   ],
   "outputs": [
    {
     "data": {
      "text/plain": [
       "['titanic_pipeline.pkl']"
      ]
     },
     "execution_count": 36,
     "metadata": {},
     "output_type": "execute_result"
    }
   ],
   "execution_count": 36
  },
  {
   "cell_type": "markdown",
   "id": "6c0bc0e4",
   "metadata": {},
   "source": [
    "## Exercise 1: Try a Different Classifier\n",
    "Replace the logistic regression model in the pipeline with another classifier, such as `RandomForestClassifier`, and compare the results.\n",
    "\n",
    "```python\n",
    "from sklearn.ensemble import RandomForestClassifier\n",
    "# Replace the classifier in clf_pipeline\n",
    "```\n",
    "\n",
    "*What changes do you observe in precision and recall?*"
   ]
  },
  {
   "metadata": {
    "ExecuteTime": {
     "end_time": "2025-07-01T09:14:08.901060Z",
     "start_time": "2025-07-01T09:14:08.753048Z"
    }
   },
   "cell_type": "code",
   "source": [
    "from sklearn.ensemble import RandomForestClassifier\n",
    "from sklearn.metrics import classification_report\n",
    "\n",
    "# Create Pipeline with RandomForestClassifier\n",
    "rf_pipeline = Pipeline([\n",
    "    ('preprocessing', preprocessor),\n",
    "    ('classifier', RandomForestClassifier(n_estimators=100, random_state=42))\n",
    "])\n",
    "\n",
    "# Train the Random Forest model\n",
    "print(\"Training Random Forest Classifier...\")\n",
    "rf_pipeline.fit(X_train, y_train)\n",
    "\n",
    "# Make predictions\n",
    "rf_y_pred = rf_pipeline.predict(X_test)\n",
    "\n",
    "# Compare Results\n",
    "print(\"Logistic Regression vs Random Forest\")\n",
    "\n",
    "print(\"\\n Logistic Regression results:\")\n",
    "print(classification_report(y_test, y_pred))\n",
    "\n",
    "print(\"\\n Random Forest results:\")\n",
    "\n",
    "print(classification_report(y_test, rf_y_pred))\n",
    "\n",
    "# Save the Random Forest model\n",
    "joblib.dump(rf_pipeline, \"titanic_rf_pipeline1.pkl\")\n",
    "print(f\"\\n💾 Random Forest model saved as 'titanic_rf_pipeline.pkl'\")"
   ],
   "id": "dfb822246645f53e",
   "outputs": [
    {
     "name": "stdout",
     "output_type": "stream",
     "text": [
      "Training Random Forest Classifier...\n",
      "Logistic Regression vs Random Forest\n",
      "\n",
      " Logistic Regression results:\n",
      "              precision    recall  f1-score   support\n",
      "\n",
      "           0       0.81      0.84      0.82       105\n",
      "           1       0.76      0.72      0.74        74\n",
      "\n",
      "    accuracy                           0.79       179\n",
      "   macro avg       0.78      0.78      0.78       179\n",
      "weighted avg       0.79      0.79      0.79       179\n",
      "\n",
      "\n",
      " Random Forest results:\n",
      "              precision    recall  f1-score   support\n",
      "\n",
      "           0       0.82      0.80      0.81       105\n",
      "           1       0.73      0.76      0.74        74\n",
      "\n",
      "    accuracy                           0.78       179\n",
      "   macro avg       0.78      0.78      0.78       179\n",
      "weighted avg       0.78      0.78      0.78       179\n",
      "\n",
      "\n",
      "💾 Random Forest model saved as 'titanic_rf_pipeline.pkl'\n"
     ]
    }
   ],
   "execution_count": 37
  },
  {
   "cell_type": "markdown",
   "id": "e482c4f2",
   "metadata": {},
   "source": [
    "## Exercise 2: Use Cross-Validation\n",
    "Apply cross-validation on the pipeline instead of a single train/test split.\n",
    "\n",
    "```python\n",
    "from sklearn.model_selection import cross_val_score\n",
    "```\n",
    "\n",
    "*Is the model stable across folds?*"
   ]
  },
  {
   "metadata": {
    "ExecuteTime": {
     "end_time": "2025-07-01T09:14:10.047459Z",
     "start_time": "2025-07-01T09:14:09.012106Z"
    }
   },
   "cell_type": "code",
   "source": [
    "# Apply cross-validation to both models\n",
    "print(\"Performing 5-fold cross-validation...\")\n",
    "\n",
    "# Logistic Regression Cross-Validation\n",
    "lr_cv_scores = cross_validate(clf_pipeline, X, y, cv=5,\n",
    "                             scoring=['accuracy', 'precision', 'recall', 'f1'],\n",
    "                             return_train_score=True)\n",
    "\n",
    "# Random Forest Cross-Validation\n",
    "rf_cv_scores = cross_validate(rf_pipeline, X, y, cv=5,\n",
    "                             scoring=['accuracy', 'precision', 'recall', 'f1'],\n",
    "                             return_train_score=True)\n",
    "\n",
    "# Create comprehensive results\n",
    "print(\"\\n Cross Validation Results:\")\n",
    "\n",
    "for metric in ['test_accuracy', 'test_precision', 'test_recall', 'test_f1']:\n",
    "    scores = lr_cv_scores[metric]\n",
    "    print(f\"mean: {np.mean(scores)}\\n std: {np.std(scores)}\\n min: {np.min(scores)}\\n max: {np.max(scores)}\")\n",
    "\n",
    "for metric in ['test_accuracy', 'test_precision', 'test_recall', 'test_f1']:\n",
    "    scores = rf_cv_scores[metric]\n",
    "    print(f\"mean: {np.mean(scores)}\\n std: {np.std(scores)}\\n min: {np.min(scores)}\\n max: {np.max(scores)}\")\n",
    "\n",
    "# Stability Analysis\n",
    "\n",
    "print(\"\\n Logistic Regression:\")\n",
    "for metric in ['test_accuracy', 'test_precision', 'test_recall', 'test_f1']:\n",
    "    scores = lr_cv_scores[metric]\n",
    "    coefficient_of_variation = np.std(scores) / np.mean(scores)\n",
    "\n",
    "    if coefficient_of_variation < 0.05:\n",
    "        stability = \"Very Stable\"\n",
    "    elif coefficient_of_variation < 0.10:\n",
    "        stability = \"Stable \"\n",
    "    else:\n",
    "        stability = \"Unstable \"\n",
    "\n",
    "    print(f\"  {metric.replace('test_', '').capitalize():12}: CV = {coefficient_of_variation:.3f} - {stability}\")\n",
    "\n",
    "print(\"\\n Random Forest:\")\n",
    "for metric in ['test_accuracy', 'test_precision', 'test_recall', 'test_f1']:\n",
    "    scores = rf_cv_scores[metric]\n",
    "    coefficient_of_variation = np.std(scores) / np.mean(scores)\n",
    "\n",
    "    if coefficient_of_variation < 0.05:\n",
    "        stability = \"Very Stable\"\n",
    "    elif coefficient_of_variation < 0.10:\n",
    "        stability = \"Stable \"\n",
    "    else:\n",
    "        stability = \"Unstable \"\n",
    "\n",
    "    print(f\"  {metric.replace('test_', '').capitalize():12}: CV = {coefficient_of_variation:.3f} - {stability}\")\n",
    "\n",
    "# Visualization\n",
    "import matplotlib.pyplot as plt\n",
    "\n",
    "fig, axes = plt.subplots(2, 2, figsize=(15, 10))\n",
    "\n",
    "metrics = ['test_accuracy', 'test_precision', 'test_recall', 'test_f1']\n",
    "metric_names = ['Accuracy', 'Precision', 'Recall', 'F1-Score']\n",
    "\n",
    "for i, (metric, name) in enumerate(zip(metrics, metric_names)):\n",
    "    ax = axes[i//2, i%2]\n",
    "\n",
    "    # Box plots for each model\n",
    "    lr_scores = lr_cv_scores[metric]\n",
    "    rf_scores = rf_cv_scores[metric]\n",
    "\n",
    "    ax.boxplot([lr_scores, rf_scores], tick_labels=['Logistic Regression', 'Random Forest'])\n",
    "    ax.set_title(f'{name} - Cross-Validation Distribution')\n",
    "    ax.set_ylabel('Score')\n",
    "    ax.grid(True, alpha=0.3)\n",
    "\n",
    "plt.tight_layout()\n",
    "plt.show()"
   ],
   "id": "2c1903eabba547ef",
   "outputs": [
    {
     "name": "stdout",
     "output_type": "stream",
     "text": [
      "Performing 5-fold cross-validation...\n",
      "\n",
      " Cross Validation Results:\n",
      "mean: 0.7890088506685079\n",
      " std: 0.01478455309457623\n",
      " min: 0.7696629213483146\n",
      " max: 0.8089887640449438\n",
      "mean: 0.7398776931721306\n",
      " std: 0.021276123291098722\n",
      " min: 0.7101449275362319\n",
      " max: 0.765625\n",
      "mean: 0.6957800511508953\n",
      " std: 0.046667035766478134\n",
      " min: 0.6029411764705882\n",
      " max: 0.7246376811594203\n",
      "mean: 0.7160977168276439\n",
      " std: 0.027367779550814396\n",
      " min: 0.6666666666666666\n",
      " max: 0.7424242424242424\n",
      "mean: 0.8081099742640134\n",
      " std: 0.02142893650479516\n",
      " min: 0.7821229050279329\n",
      " max: 0.8426966292134831\n",
      "mean: 0.7591325210689899\n",
      " std: 0.02622682261060496\n",
      " min: 0.7142857142857143\n",
      " max: 0.7941176470588235\n",
      "mean: 0.7337595907928389\n",
      " std: 0.05662624596756022\n",
      " min: 0.6470588235294118\n",
      " max: 0.7971014492753623\n",
      "mean: 0.7450028844590675\n",
      " std: 0.033984976751933675\n",
      " min: 0.704\n",
      " max: 0.7941176470588235\n",
      "\n",
      " Logistic Regression:\n",
      "  Accuracy    : CV = 0.019 - Very Stable\n",
      "  Precision   : CV = 0.029 - Very Stable\n",
      "  Recall      : CV = 0.067 - Stable \n",
      "  F1          : CV = 0.038 - Very Stable\n",
      "\n",
      " Random Forest:\n",
      "  Accuracy    : CV = 0.027 - Very Stable\n",
      "  Precision   : CV = 0.035 - Very Stable\n",
      "  Recall      : CV = 0.077 - Stable \n",
      "  F1          : CV = 0.046 - Very Stable\n"
     ]
    },
    {
     "data": {
      "text/plain": [
       "<Figure size 1500x1000 with 4 Axes>"
      ],
      "image/png": "[encoded data removed]"
     },
     "metadata": {},
     "output_type": "display_data"
    }
   ],
   "execution_count": 38
  },
  {
   "cell_type": "markdown",
   "id": "3e156e8c",
   "metadata": {},
   "source": [
    "## Exercise 3: Add Feature Engineering\n",
    "Add a new column to the Titanic data, such as `FamilySize = SibSp + Parch`, and evaluate if this feature improves the model.\n",
    "\n",
    "```python\n",
    "df['FamilySize'] = df['SibSp'] + df['Parch']\n",
    "# Then include it in the feature list and re-run the pipeline\n",
    "```\n",
    "\n",
    "*Does the new feature improve the prediction metrics?*"
   ]
  },
  {
   "metadata": {
    "ExecuteTime": {
     "end_time": "2025-07-01T09:26:00.578973Z",
     "start_time": "2025-07-01T09:25:59.194533Z"
    }
   },
   "cell_type": "code",
   "source": [
    "# Create enhanced dataset with new features\n",
    "df_enhanced = df.copy()\n",
    "\n",
    "# 1. FamilySize feature\n",
    "df_enhanced['FamilySize'] = df_enhanced['SibSp'] + df_enhanced['Parch']\n",
    "\n",
    "# Enhanced feature set\n",
    "enhanced_features = ['Pclass', 'Sex', 'Age', 'Fare', 'Embarked', 'FamilySize']\n",
    "\n",
    "X_enhanced = df_enhanced[enhanced_features]\n",
    "y_enhanced = df_enhanced[target]\n",
    "\n",
    "# Updated preprocessing for enhanced features\n",
    "numeric_features_enhanced = ['Age', 'Fare', 'FamilySize']\n",
    "categorical_features_enhanced = ['Pclass', 'Sex', 'Embarked']\n",
    "\n",
    "numeric_transformer_enhanced = Pipeline([\n",
    "    ('imputer', SimpleImputer(strategy='median')),\n",
    "    ('scaler', StandardScaler())\n",
    "])\n",
    "\n",
    "categorical_transformer_enhanced = Pipeline([\n",
    "    ('imputer', SimpleImputer(strategy='most_frequent')),\n",
    "    ('encoder', OneHotEncoder(handle_unknown='ignore'))\n",
    "])\n",
    "\n",
    "preprocessor_enhanced = ColumnTransformer([\n",
    "    ('num', numeric_transformer_enhanced, numeric_features_enhanced),\n",
    "    ('cat', categorical_transformer_enhanced, categorical_features_enhanced)\n",
    "])\n",
    "\n",
    "# Enhanced models\n",
    "enhanced_lr_pipeline = Pipeline([\n",
    "    ('preprocessing', preprocessor_enhanced),\n",
    "    ('classifier', LogisticRegression(max_iter=1000, random_state=42))\n",
    "])\n",
    "\n",
    "enhanced_rf_pipeline = Pipeline([\n",
    "    ('preprocessing', preprocessor_enhanced),\n",
    "    ('classifier', RandomForestClassifier(n_estimators=100, random_state=42))\n",
    "])\n",
    "\n",
    "# Compare enhanced vs original models\n",
    "print(\"\\n FEATURE ENGINEERING IMPACT:\")\n",
    "\n",
    "# Original model performance (using cross-validation)\n",
    "original_lr_cv = cross_val_score(clf_pipeline, X, y, cv=5, scoring='f1')\n",
    "original_rf_cv = cross_val_score(rf_pipeline, X, y, cv=5, scoring='f1')\n",
    "\n",
    "# Enhanced model performance\n",
    "enhanced_lr_cv = cross_val_score(enhanced_lr_pipeline, X_enhanced, y_enhanced, cv=5, scoring='f1')\n",
    "enhanced_rf_cv = cross_val_score(enhanced_rf_pipeline, X_enhanced, y_enhanced, cv=5, scoring='f1')\n",
    "\n",
    "# Results comparison\n",
    "results_comparison = pd.DataFrame({\n",
    "    'Original Features': [np.mean(original_lr_cv), np.mean(original_rf_cv)],\n",
    "    'Enhanced Features': [np.mean(enhanced_lr_cv), np.mean(enhanced_rf_cv)],\n",
    "    'Improvement': [np.mean(enhanced_lr_cv) - np.mean(original_lr_cv),\n",
    "                   np.mean(enhanced_rf_cv) - np.mean(original_rf_cv)]\n",
    "}, index=['Logistic Regression', 'Random Forest'])\n",
    "\n",
    "print(\"F1-Score Comparison (5-fold CV):\")\n",
    "print(results_comparison.round(4))"
   ],
   "id": "4684bcd414fa384e",
   "outputs": [
    {
     "name": "stdout",
     "output_type": "stream",
     "text": [
      "\n",
      " FEATURE ENGINEERING IMPACT:\n",
      "F1-Score Comparison (5-fold CV):\n",
      "                     Original Features  Enhanced Features  Improvement\n",
      "Logistic Regression             0.7161             0.7217       0.0056\n",
      "Random Forest                   0.7450             0.7383      -0.0067\n"
     ]
    }
   ],
   "execution_count": 43
  },
  {
   "cell_type": "markdown",
   "id": "a0ecf45a",
   "metadata": {},
   "source": [
    "## Exercise 4 (Bonus): Create a Streamlit Interface\n",
    "Build a simple Streamlit UI to load the trained model and predict survival based on user input.\n",
    "\n",
    "```python\n",
    "# Example streamlit interface\n",
    "import streamlit as st\n",
    "import joblib\n",
    "import pandas as pd\n",
    "\n",
    "model = joblib.load(\"titanic_pipeline.pkl\")\n",
    "Pclass = st.selectbox(\"Pclass\", [1, 2, 3])\n",
    "Sex = st.selectbox(\"Sex\", [\"male\", \"female\"])\n",
    "Age = st.slider(\"Age\", 0, 100, 25)\n",
    "Fare = st.slider(\"Fare\", 0.0, 500.0, 32.0)\n",
    "Embarked = st.selectbox(\"Embarked\", [\"S\", \"C\", \"Q\"])\n",
    "\n",
    "if st.button(\"Predict\"):\n",
    "    X_new = pd.DataFrame([[Pclass, Sex, Age, Fare, Embarked]],\n",
    "                         columns=[\"Pclass\", \"Sex\", \"Age\", \"Fare\", \"Embarked\"])\n",
    "    pred = model.predict(X_new)\n",
    "    st.write(\"Prediction:\", \"Survived\" if pred[0] == 1 else \"Did not survive\")\n",
    "```\n",
    "\n",
    "👉 *Try running your Streamlit app locally.*"
   ]
  },
  {
   "cell_type": "markdown",
   "id": "ab42845d",
   "metadata": {},
   "source": []
  }
 ],
 "metadata": {
  "kernelspec": {
   "display_name": ".venv",
   "language": "python",
   "name": "python3"
  },
  "language_info": {
   "name": "python",
   "version": "3.13.3"
  }
 },
 "nbformat": 4,
 "nbformat_minor": 5
}
